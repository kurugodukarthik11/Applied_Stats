{
  "nbformat": 4,
  "nbformat_minor": 0,
  "metadata": {
    "colab": {
      "name": "Untitled22.ipynb",
      "provenance": [],
      "collapsed_sections": []
    },
    "kernelspec": {
      "name": "python3",
      "display_name": "Python 3"
    },
    "language_info": {
      "name": "python"
    }
  },
  "cells": [
    {
      "cell_type": "markdown",
      "source": [
        "## Imports"
      ],
      "metadata": {
        "id": "p7VcNtBJEM5W"
      }
    },
    {
      "cell_type": "code",
      "source": [
        "import numpy as np\n",
        "import pandas as pd\n",
        "import seaborn as sns\n",
        "from scipy.stats import norm,t\n",
        "import statistics\n",
        "import matplotlib.pyplot as plt\n",
        "import random"
      ],
      "metadata": {
        "id": "I8e4-iQSDtlU"
      },
      "execution_count": null,
      "outputs": []
    },
    {
      "cell_type": "markdown",
      "source": [
        "## Data Cleaning"
      ],
      "metadata": {
        "id": "ohnWoRdSD8Zb"
      }
    },
    {
      "cell_type": "code",
      "source": [
        "def randomint(num):\n",
        "  a=num*1000\n",
        "  if a==0:\n",
        "    return 0\n",
        "  elif a==8000:\n",
        "    b=(num+2)*1000\n",
        "    num3 = random.randint(a,b)\n",
        "    return float(num3/1000)\n",
        "  else:\n",
        "    b=(num-1)*1000\n",
        "    num3 = random.randint(b,a)   \n",
        "    return float(num3/1000)"
      ],
      "metadata": {
        "id": "ky-VeUYrvC0l"
      },
      "execution_count": null,
      "outputs": []
    },
    {
      "cell_type": "code",
      "source": [
        "data = pd.read_csv('/content/sample_data/Factors effecting sleep (Responses) - Form Responses 1.csv')\n",
        "df=pd.DataFrame(data,columns=['How much time do you spend on screens for recreational activities like gaming, social media and streaming?',\n",
        "                                'How much time do you spend on sports or exercise/gym?',\n",
        "                                'How much sleep do you get in a day?'])\n",
        "df[['How much sleep do you get in a day?']] = df[['How much sleep do you get in a day?']].replace([\"6-7 hrs\",\"more than 8 hours\",\"4-5 hrs\",\"5-6 hrs\",\"less than 4 hours\"], [7,8,5,6,4], regex=True)"
      ],
      "metadata": {
        "id": "A8Bx9IZ8xJnf"
      },
      "execution_count": null,
      "outputs": []
    },
    {
      "cell_type": "markdown",
      "source": [
        "## Data and description for different amount of caffiene intakes"
      ],
      "metadata": {
        "id": "opXE_rB9Ei_c"
      }
    },
    {
      "cell_type": "code",
      "source": [
        "games=['1-2 hrs','2-3 hrs', '4-5 hrs', '6 or more hours']\n",
        "gym=['1-2 hrs','2-3 hrs','4 or more hours',\"Don't exercise\"] \n",
        "df_list=[]"
      ],
      "metadata": {
        "id": "1Ht5jj5AzjoO"
      },
      "execution_count": null,
      "outputs": []
    },
    {
      "cell_type": "code",
      "source": [
        "for i in games:\n",
        "  df_list.append(df.loc[df['How much time do you spend on screens for recreational activities like gaming, social media and streaming?']==i])"
      ],
      "metadata": {
        "id": "HDAGizmklOzD"
      },
      "execution_count": null,
      "outputs": []
    },
    {
      "cell_type": "code",
      "source": [
        "for diff in df_list:\n",
        "  index=diff.index\n",
        "  for i in index:\n",
        "    c=diff.loc[i,'How much sleep do you get in a day?']\n",
        "    diff.loc[i,'How much sleep do you get in a day?']=randomint(c)"
      ],
      "metadata": {
        "id": "iWqODOis2Un5",
        "colab": {
          "base_uri": "https://localhost:8080/"
        },
        "outputId": "5d285561-f20b-40c3-c749-cfdf0431bc83"
      },
      "execution_count": null,
      "outputs": [
        {
          "output_type": "stream",
          "name": "stderr",
          "text": [
            "/usr/local/lib/python3.7/dist-packages/pandas/core/indexing.py:1817: SettingWithCopyWarning: \n",
            "A value is trying to be set on a copy of a slice from a DataFrame.\n",
            "Try using .loc[row_indexer,col_indexer] = value instead\n",
            "\n",
            "See the caveats in the documentation: https://pandas.pydata.org/pandas-docs/stable/user_guide/indexing.html#returning-a-view-versus-a-copy\n",
            "  self._setitem_single_column(loc, value, pi)\n"
          ]
        }
      ]
    },
    {
      "cell_type": "code",
      "source": [
        "f=pd.concat(df_list)"
      ],
      "metadata": {
        "id": "WGfk4eSM2na-"
      },
      "execution_count": null,
      "outputs": []
    },
    {
      "cell_type": "code",
      "source": [
        "#for ci\n",
        "game_frames=[]\n",
        "for i in games:\n",
        "  game_frames.append(f.loc[f['How much time do you spend on screens for recreational activities like gaming, social media and streaming?']==i])\n",
        "gym_frames=[]\n",
        "for i in gym:\n",
        "  gym_frames.append(f.loc[f['How much time do you spend on sports or exercise/gym?']==i])"
      ],
      "metadata": {
        "id": "wzHlm3NvvArV"
      },
      "execution_count": null,
      "outputs": []
    },
    {
      "cell_type": "markdown",
      "source": [
        "## Normal distribution graph and confidence intervals"
      ],
      "metadata": {
        "id": "ORQDV9nsK2e8"
      }
    },
    {
      "cell_type": "markdown",
      "source": [
        "### Confidence Interval"
      ],
      "metadata": {
        "id": "j4dTHNjqPOAx"
      }
    },
    {
      "cell_type": "code",
      "source": [
        "def ci(x,confidence):\n",
        "  m = x.mean() \n",
        "  s = x.std() \n",
        "  dof = len(x)-1 \n",
        "  t_crit = np.abs(t.ppf((1-confidence)/2,dof))\n",
        "  return (m-s*t_crit/np.sqrt(len(x)), m+s*t_crit/np.sqrt(len(x)))\n",
        "k=0\n",
        "for i in game_frames:\n",
        "  print(\"We can say with 95% confidence that the number of hours\" \n",
        "                        +\" of sleep is in the interval who spends {} on recreational activities\".format(games[k]),\n",
        "                         ci(np.array(i['How much sleep do you get in a day?']),0.95))\n",
        "  k+=1\n",
        "\n",
        "for i in gym_frames:\n",
        "  print(\"We can say with 95% confidence that the number of hours\" \n",
        "                         +\" of sleep is in the interval who spends {} on sports/gym\".format(gym[k%4]),\n",
        "                         ci(np.array(i['How much sleep do you get in a day?']),0.95))\n",
        "  k+=1"
      ],
      "metadata": {
        "id": "at1skFuAPDeQ",
        "colab": {
          "base_uri": "https://localhost:8080/"
        },
        "outputId": "832248cf-c355-45f0-b7b0-7ff4ab60047b"
      },
      "execution_count": null,
      "outputs": [
        {
          "output_type": "stream",
          "name": "stdout",
          "text": [
            "We can say with 95% confidence that the number of hours of sleep is in the interval who spends 1-2 hrs on recreational activities (6.258032835032703, 6.983403062403193)\n",
            "We can say with 95% confidence that the number of hours of sleep is in the interval who spends 2-3 hrs on recreational activities (6.273249053212243, 6.968890481671478)\n",
            "We can say with 95% confidence that the number of hours of sleep is in the interval who spends 4-5 hrs on recreational activities (6.447479681501022, 7.444277894256553)\n",
            "We can say with 95% confidence that the number of hours of sleep is in the interval who spends 6 or more hours on recreational activities (5.789172890179394, 7.165885933350017)\n",
            "We can say with 95% confidence that the number of hours of sleep is in the interval who spends 1-2 hrs on sports/gym (6.206056973583723, 6.742286776416276)\n",
            "We can say with 95% confidence that the number of hours of sleep is in the interval who spends 2-3 hrs on sports/gym (6.2300715012463295, 7.475828498753667)\n",
            "We can say with 95% confidence that the number of hours of sleep is in the interval who spends 4 or more hours on sports/gym (6.336790555911489, 6.8764094440885115)\n",
            "We can say with 95% confidence that the number of hours of sleep is in the interval who spends Don't exercise on sports/gym (6.486981459511751, 7.364506912581273)\n"
          ]
        }
      ]
    },
    {
      "cell_type": "code",
      "source": [
        "#tables for gaming\n",
        "for i in game_frames:\n",
        "  print(i.describe())\n",
        "  print(\"\\n\")"
      ],
      "metadata": {
        "colab": {
          "base_uri": "https://localhost:8080/"
        },
        "id": "dty78ThcjLd_",
        "outputId": "534926d5-b57c-46fc-fa6e-ee44677d88b6"
      },
      "execution_count": null,
      "outputs": [
        {
          "output_type": "stream",
          "name": "stdout",
          "text": [
            "       How much sleep do you get in a day?\n",
            "count                            39.000000\n",
            "mean                              6.620718\n",
            "std                               1.133463\n",
            "min                               4.521000\n",
            "25%                               6.140500\n",
            "50%                               6.608000\n",
            "75%                               6.866000\n",
            "max                               9.737000\n",
            "\n",
            "\n",
            "       How much sleep do you get in a day?\n",
            "count                            43.000000\n",
            "mean                              6.621070\n",
            "std                               1.143564\n",
            "min                               4.337000\n",
            "25%                               6.062500\n",
            "50%                               6.526000\n",
            "75%                               6.885500\n",
            "max                              10.000000\n",
            "\n",
            "\n",
            "       How much sleep do you get in a day?\n",
            "count                            33.000000\n",
            "mean                              6.945879\n",
            "std                               1.427379\n",
            "min                               4.015000\n",
            "25%                               6.260000\n",
            "50%                               6.554000\n",
            "75%                               8.406000\n",
            "max                               9.720000\n",
            "\n",
            "\n",
            "       How much sleep do you get in a day?\n",
            "count                            17.000000\n",
            "mean                              6.477529\n",
            "std                               1.380022\n",
            "min                               3.569000\n",
            "25%                               5.702000\n",
            "50%                               6.608000\n",
            "75%                               6.771000\n",
            "max                               9.016000\n",
            "\n",
            "\n"
          ]
        }
      ]
    },
    {
      "cell_type": "markdown",
      "source": [
        "## Sea born box-plot"
      ],
      "metadata": {
        "id": "z12N6gDM_FZf"
      }
    },
    {
      "cell_type": "code",
      "source": [
        "#box plot of recreational activities hours\n",
        "plt.figure(figsize=(10,8))\n",
        "ax_games = sns.boxplot(x=\"How much time do you spend on screens for recreational activities like gaming, social media and streaming?\",\n",
        "                    y=\"How much sleep do you get in a day?\", data=f, order=games)"
      ],
      "metadata": {
        "id": "td60y3QhA3ei",
        "colab": {
          "base_uri": "https://localhost:8080/",
          "height": 497
        },
        "outputId": "1c06fa96-7e03-4d58-d83b-d061faf4a65f"
      },
      "execution_count": null,
      "outputs": [
        {
          "output_type": "display_data",
          "data": {
            "text/plain": [
              "<Figure size 720x576 with 1 Axes>"
            ],
            "image/png": "[encoded data removed]"
          },
          "metadata": {
            "needs_background": "light"
          }
        }
      ]
    },
    {
      "cell_type": "code",
      "source": [
        "#tables for gym\n",
        "for i in gym_frames:\n",
        "  print(i.describe())\n",
        "  print(\"\\n\")"
      ],
      "metadata": {
        "colab": {
          "base_uri": "https://localhost:8080/"
        },
        "id": "apbonhcJf8UV",
        "outputId": "ef46bae7-0808-4b58-c0a4-132aa340b107"
      },
      "execution_count": null,
      "outputs": [
        {
          "output_type": "stream",
          "name": "stdout",
          "text": [
            "       How much sleep do you get in a day?\n",
            "count                            64.000000\n",
            "mean                              6.474172\n",
            "std                               1.081835\n",
            "min                               4.252000\n",
            "25%                               6.034000\n",
            "50%                               6.402500\n",
            "75%                               6.772750\n",
            "max                               9.737000\n",
            "\n",
            "\n",
            "       How much sleep do you get in a day?\n",
            "count                             20.00000\n",
            "mean                               6.85295\n",
            "std                                1.36547\n",
            "min                                4.01500\n",
            "25%                                5.85400\n",
            "50%                                6.64000\n",
            "75%                                8.43950\n",
            "max                                9.12100\n",
            "\n",
            "\n",
            "       How much sleep do you get in a day?\n",
            "count                             5.000000\n",
            "mean                              6.606600\n",
            "std                               0.242945\n",
            "min                               6.323000\n",
            "25%                               6.393000\n",
            "50%                               6.653000\n",
            "75%                               6.776000\n",
            "max                               6.888000\n",
            "\n",
            "\n",
            "       How much sleep do you get in a day?\n",
            "count                            43.000000\n",
            "mean                              6.925744\n",
            "std                               1.442563\n",
            "min                               3.569000\n",
            "25%                               6.244000\n",
            "50%                               6.695000\n",
            "75%                               8.192500\n",
            "max                              10.000000\n",
            "\n",
            "\n"
          ]
        }
      ]
    },
    {
      "cell_type": "code",
      "source": [
        "#box plot of sports hours\n",
        "plt.figure( figsize = ( 10,8 ) ) \n",
        "ax_sports = sns.boxplot( x = \"How much time do you spend on sports or exercise/gym?\",\n",
        "                    y = \"How much sleep do you get in a day?\", data = f, order = gym)"
      ],
      "metadata": {
        "colab": {
          "base_uri": "https://localhost:8080/",
          "height": 497
        },
        "id": "XODziCTs_nLX",
        "outputId": "a5a86f77-19fe-4f02-ef34-968ad1482445"
      },
      "execution_count": null,
      "outputs": [
        {
          "output_type": "display_data",
          "data": {
            "text/plain": [
              "<Figure size 720x576 with 1 Axes>"
            ],
            "image/png": "[encoded data removed]"
          },
          "metadata": {
            "needs_background": "light"
          }
        }
      ]
    },
    {
      "cell_type": "code",
      "source": [
        "X = np.array( f [ 'How much sleep do you get in a day?' ] )\n",
        "sample_size = 100"
      ],
      "metadata": {
        "id": "Q3Cnwij0AE4a"
      },
      "execution_count": null,
      "outputs": []
    },
    {
      "cell_type": "code",
      "source": [
        "sample_of_size_40 , sample_of_size_50 , sample_of_size_60 , sample_of_size_70 , sample_of_size_80 , sample_of_size_90 = [] , [] , [] , [] , [] , []"
      ],
      "metadata": {
        "id": "5PYGKkLJ4cY4"
      },
      "execution_count": null,
      "outputs": []
    },
    {
      "cell_type": "code",
      "source": [
        "for i in range ( sample_size ):\n",
        "  sample_of_size_40.append ( np.random.choice ( X , 40 ) )\n",
        "  sample_of_size_50.append ( np.random.choice ( X , 50 ) )\n",
        "  sample_of_size_60.append ( np.random.choice ( X , 60 ) )\n",
        "  sample_of_size_70.append ( np.random.choice ( X , 70 ) )\n",
        "  sample_of_size_80.append ( np.random.choice ( X , 80 ) )\n",
        "  sample_of_size_90.append ( np.random.choice ( X , 90 ) )\n",
        "\n",
        "sample_of_size_40 = np.array ( sample_of_size_40 )\n",
        "sample_of_size_50 = np.array ( sample_of_size_50 ) \n",
        "sample_of_size_60 = np.array ( sample_of_size_60 )\n",
        "sample_of_size_70 = np.array ( sample_of_size_70 )\n",
        "sample_of_size_80 = np.array ( sample_of_size_80 )\n",
        "sample_of_size_90 = np.array ( sample_of_size_80 )"
      ],
      "metadata": {
        "id": "MeT3q3lx4qa1"
      },
      "execution_count": null,
      "outputs": []
    },
    {
      "cell_type": "code",
      "source": [
        "means_40 , means_50 , means_60,means_70 , means_80 , means_90 = [] , [] , [] , [] , [] , []\n",
        "for i in range ( sample_size ):\n",
        "  means_40.append ( sample_of_size_40[i].mean() )\n",
        "  means_50.append ( sample_of_size_50[i].mean() )\n",
        "  means_60.append ( sample_of_size_60[i].mean() )\n",
        "  means_70.append ( sample_of_size_70[i].mean() )\n",
        "  means_80.append ( sample_of_size_80[i].mean() )\n",
        "  means_90.append ( sample_of_size_80[i].mean() )"
      ],
      "metadata": {
        "id": "lhn8bndp7BR1"
      },
      "execution_count": null,
      "outputs": []
    },
    {
      "cell_type": "code",
      "source": [
        "fig,ax = plt.subplots()\n",
        "\n",
        "df_40 = pd.DataFrame( { 'size 40' : np.array(means_40) } )\n",
        "df_40.plot.kde( ax = ax )\n",
        "\n",
        "df_50 = pd.DataFrame( { 'size 50':np.array(means_50) } )\n",
        "df_50.plot.kde( ax = ax )\n",
        "\n",
        "df_60 = pd.DataFrame( { 'size 60':np.array(means_60) } )\n",
        "df_60.plot.kde( ax = ax )\n",
        "\n",
        "df_70 = pd.DataFrame( { 'size 70':np.array(means_70) } )\n",
        "df_70.plot.kde( ax = ax )\n",
        "\n",
        "df_80 = pd.DataFrame( { 'size 80':np.array(means_80) } )\n",
        "df_80.plot.kde( ax = ax )\n",
        "\n",
        "df_90 = pd.DataFrame( { 'size 90':np.array(means_90) } )\n",
        "df_90.plot.kde( ax = ax )\n",
        "\n",
        "plt.show()\n",
        "\n",
        "#sampling means of sleeping hours"
      ],
      "metadata": {
        "colab": {
          "base_uri": "https://localhost:8080/",
          "height": 265
        },
        "id": "Z40ULWo17dRH",
        "outputId": "e0bbd486-aedb-437e-f58f-a56d9e761596"
      },
      "execution_count": null,
      "outputs": [
        {
          "output_type": "display_data",
          "data": {
            "text/plain": [
              "<Figure size 432x288 with 1 Axes>"
            ],
            "image/png": "[encoded data removed]"
          },
          "metadata": {
            "needs_background": "light"
          }
        }
      ]
    }
  ]
}